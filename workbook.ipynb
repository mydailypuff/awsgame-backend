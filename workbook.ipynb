{
 "cells": [
  {
   "cell_type": "markdown",
   "metadata": {},
   "source": [
    "# Token Usage Analysis\n",
    "\n",
    "This notebook analyzes and calculates token usage for the given content."
   ]
  },
  {
   "cell_type": "code",
   "execution_count": 32,
   "metadata": {},
   "outputs": [
    {
     "name": "stdout",
     "output_type": "stream",
     "text": [
      "<botocore.eventstream.EventStream object at 0x118bada00>\n"
     ]
    }
   ],
   "source": [
    "import boto3\n",
    "import json\n",
    "import uuid\n",
    "\n",
    "# Initialize the Bedrock Agent Runtime client (not bedrock-runtime)\n",
    "\n",
    "# Generate a session ID for conversation continuity\n",
    "session_id = str(uuid.uuid4())\n",
    "agent_id = \"FNMFUFHPJY\"  # Replace with your Bedrock Agent ID\n",
    "agent_alias_id = \"TSTALIASID\"  # You need to specify your agent alias ID\n",
    "\n",
    "def communicate_with_agent(session_id, user_input):\n",
    "    # Prepare the input parameters\n",
    "    input_params = {\n",
    "        \"agentId\": agent_id,\n",
    "        \"agentAliasId\": agent_alias_id,  # Required parameter\n",
    "        \"sessionId\": session_id,\n",
    "        \"inputText\": user_input\n",
    "    }\n",
    "\n",
    "    # Invoke the Bedrock Agent\n",
    "    bedrock_client = boto3.client('bedrock-agent-runtime', region_name='us-east-1')\n",
    "    response = bedrock_client.invoke_agent(**input_params)\n",
    "    #print(response)\n",
    "    \n",
    "    completion = \"\"\n",
    "     # Handle the streaming response\n",
    "    print(response.get(\"completion\"))\n",
    "    for event in response.get(\"completion\"):\n",
    "        if \"chunk\" in event:\n",
    "            chunk = event[\"chunk\"]\n",
    "            completion += chunk[\"bytes\"].decode()\n",
    "    token_usage = response.get(\"usage\", {})\n",
    "\n",
    "    \n",
    "    return completion\n",
    "\n",
    "# Example interaction\n",
    "user_input = \"SCENE_DETAILS: I am a space traveller, currently I am in mars, USER_NAME:Anuradha, USER_RACE: Female, USER_CLASS: Dumb Astronaut\"\n",
    "response = communicate_with_agent(session_id, user_input)\n"
   ]
  },
  {
   "cell_type": "code",
   "execution_count": 45,
   "metadata": {},
   "outputs": [],
   "source": [
    "import boto3\n",
    "def communicate(user_input: str, session_id):\n",
    "    \"\"\"Send a synchronous request to the Bedrock agent.\n",
    "    \n",
    "    Args:\n",
    "        user_input: User input text\n",
    "        session_id: Optional session identifier\n",
    "        \n",
    "    Returns:\n",
    "        Dictionary with agent response\n",
    "    \"\"\"\n",
    "    \n",
    "    \n",
    "    try:\n",
    "        # Create basic client for synchronous operations\n",
    "        client = boto3.client('bedrock-agent-runtime', region_name='us-east-1')\n",
    "        \n",
    "        # Make basic synchronous request\n",
    "        print(user_input)\n",
    "        response = client.invoke_agent(\n",
    "            agentId=\"FNMFUFHPJY\",\n",
    "            agentAliasId=\"TSTALIASID\",\n",
    "            sessionId=session_id or 'default-session',\n",
    "            inputText=user_input\n",
    "        )\n",
    "        \n",
    "        # Basic synchronous response handling\n",
    "        print(response)\n",
    "        if not response or 'completion' not in response:\n",
    "            print(\"response Not found\")\n",
    "            \n",
    "        #cleaned_response = self.validate_response(response['response'])\n",
    "        return response\n",
    "        \n",
    "    except Exception as e:\n",
    "        print(f\"Error communicating with Bedrock: {str(e)}\")\n",
    "        "
   ]
  },
  {
   "cell_type": "code",
   "execution_count": 46,
   "metadata": {},
   "outputs": [
    {
     "name": "stdout",
     "output_type": "stream",
     "text": [
      "SCENE_DETAILS: I am a space traveller, currently I am in mars, USER_NAME:Anuradha, USER_RACE: Female, USER_CLASS: Dumb Astronaut\n",
      "{'ResponseMetadata': {'RequestId': 'f2c6c40a-3dfe-43e6-8ba6-1cce78b35734', 'HTTPStatusCode': 200, 'HTTPHeaders': {'date': 'Mon, 13 Jan 2025 11:12:22 GMT', 'content-type': 'application/vnd.amazon.eventstream', 'transfer-encoding': 'chunked', 'connection': 'keep-alive', 'x-amzn-requestid': 'f2c6c40a-3dfe-43e6-8ba6-1cce78b35734', 'x-amz-bedrock-agent-session-id': 'test_session1', 'x-amzn-bedrock-agent-content-type': 'application/json'}, 'RetryAttempts': 0}, 'contentType': 'application/json', 'sessionId': 'test_session1', 'completion': <botocore.eventstream.EventStream object at 0x107eaf530>}\n"
     ]
    }
   ],
   "source": [
    "user_input = \"SCENE_DETAILS: I am a space traveller, currently I am in mars, USER_NAME:Anuradha, USER_RACE: Female, USER_CLASS: Dumb Astronaut\"\n",
    "session_id=\"test_session1\"\n",
    "\n",
    "response = communicate(user_input, session_id)"
   ]
  },
  {
   "cell_type": "code",
   "execution_count": 47,
   "metadata": {},
   "outputs": [
    {
     "name": "stdout",
     "output_type": "stream",
     "text": [
      "{\n",
      "  \"SCENE\": \"Anuradha, a female Dumb Astronaut, finds herself on the red plains of Mars. The sky is a dusty pink, and the ground is covered in fine, red dust. In the distance, a large, abandoned space station looms, its once-shiny surface now dull and covered in Martian dust. The air is thin, and the temperature fluctuates wildly. Anuradha must decide her next move in this harsh, alien environment.\",\n",
      "  \"SCENARIO\": {\n",
      "    \"DICE_ROLL_FLAG\": false,\n",
      "    \"OPTION_FLAG\": true,\n",
      "    \"CUSTOM_RESPONSE_FLAG\": false,\n",
      "    \"TASK_DEFINITION\": \"Anuradha spots a small, blinking light in the distance. It could be a distress signal from another astronaut or a malfunctioning piece of equipment. She must decide whether to investigate or continue on her current path.\",\n",
      "    \"OPTIONS\": [\n",
      "      \"Investigate the blinking light\",\n",
      "      \"Continue on the current path\"\n",
      "    ]\n",
      "  },\n",
      "  \"SCORES\": {\n",
      "    \"Strength\": 30,\n",
      "    \"Dexterity\": 20,\n",
      "    \"Intelligence\": 10\n",
      "  },\n",
      "  \"GAME_SCORE\": 50\n",
      "}\n",
      "\n"
     ]
    }
   ],
   "source": [
    "\n",
    "response.get('completion')\n",
    "completion=\"\"\n",
    "\n",
    "for event in response.get('completion'):\n",
    "    if 'chunk' in event:\n",
    "        chunk = event[\"chunk\"]\n",
    "        completion+= chunk['bytes'].decode('utf-8')\n",
    "\n",
    "print(completion)"
   ]
  },
  {
   "cell_type": "code",
   "execution_count": 31,
   "metadata": {},
   "outputs": [
    {
     "ename": "TypeError",
     "evalue": "'NoneType' object is not iterable",
     "output_type": "error",
     "traceback": [
      "\u001b[0;31m---------------------------------------------------------------------------\u001b[0m",
      "\u001b[0;31mTypeError\u001b[0m                                 Traceback (most recent call last)",
      "Cell \u001b[0;32mIn[31], line 2\u001b[0m\n\u001b[1;32m      1\u001b[0m completion \u001b[38;5;241m=\u001b[39m \u001b[38;5;124m\"\u001b[39m\u001b[38;5;124m\"\u001b[39m\n\u001b[0;32m----> 2\u001b[0m \u001b[38;5;28;43;01mfor\u001b[39;49;00m\u001b[43m \u001b[49m\u001b[43mevent\u001b[49m\u001b[43m \u001b[49m\u001b[38;5;129;43;01min\u001b[39;49;00m\u001b[43m \u001b[49m\u001b[43mresponse\u001b[49m\u001b[38;5;241;43m.\u001b[39;49m\u001b[43mget\u001b[49m\u001b[43m(\u001b[49m\u001b[38;5;124;43m\"\u001b[39;49m\u001b[38;5;124;43mcompletion\u001b[39;49m\u001b[38;5;124;43m\"\u001b[39;49m\u001b[43m)\u001b[49m\u001b[43m:\u001b[49m\n\u001b[1;32m      3\u001b[0m \u001b[43m    \u001b[49m\u001b[38;5;28;43;01mif\u001b[39;49;00m\u001b[43m \u001b[49m\u001b[38;5;124;43m\"\u001b[39;49m\u001b[38;5;124;43mchunk\u001b[39;49m\u001b[38;5;124;43m\"\u001b[39;49m\u001b[43m \u001b[49m\u001b[38;5;129;43;01min\u001b[39;49;00m\u001b[43m \u001b[49m\u001b[43mevent\u001b[49m\u001b[43m:\u001b[49m\n\u001b[1;32m      4\u001b[0m \u001b[43m        \u001b[49m\u001b[43mchunk\u001b[49m\u001b[43m \u001b[49m\u001b[38;5;241;43m=\u001b[39;49m\u001b[43m \u001b[49m\u001b[43mevent\u001b[49m\u001b[43m[\u001b[49m\u001b[38;5;124;43m\"\u001b[39;49m\u001b[38;5;124;43mchunk\u001b[39;49m\u001b[38;5;124;43m\"\u001b[39;49m\u001b[43m]\u001b[49m\n",
      "\u001b[0;31mTypeError\u001b[0m: 'NoneType' object is not iterable"
     ]
    }
   ],
   "source": [
    "completion = \"\"\n",
    "for event in response.get(\"completion\"):\n",
    "    if \"chunk\" in event:\n",
    "        chunk = event[\"chunk\"]\n",
    "        completion += chunk[\"bytes\"].decode()"
   ]
  },
  {
   "cell_type": "code",
   "execution_count": 7,
   "metadata": {},
   "outputs": [],
   "source": []
  },
  {
   "cell_type": "code",
   "execution_count": null,
   "metadata": {},
   "outputs": [],
   "source": []
  },
  {
   "cell_type": "code",
   "execution_count": null,
   "metadata": {},
   "outputs": [],
   "source": []
  }
 ],
 "metadata": {
  "kernelspec": {
   "display_name": "Python 3",
   "language": "python",
   "name": "python3"
  },
  "language_info": {
   "codemirror_mode": {
    "name": "ipython",
    "version": 3
   },
   "file_extension": ".py",
   "mimetype": "text/x-python",
   "name": "python",
   "nbconvert_exporter": "python",
   "pygments_lexer": "ipython3",
   "version": "3.12.1"
  }
 },
 "nbformat": 4,
 "nbformat_minor": 4
}
