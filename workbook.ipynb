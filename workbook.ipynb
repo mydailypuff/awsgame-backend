{
 "cells": [
  {
   "cell_type": "markdown",
   "metadata": {},
   "source": [
    "# Token Usage Analysis\n",
    "\n",
    "This notebook analyzes and calculates token usage for the given content."
   ]
  },
  {
   "cell_type": "code",
   "execution_count": 43,
   "metadata": {},
   "outputs": [
    {
     "name": "stdout",
     "output_type": "stream",
     "text": [
      "Token Usage: {}\n",
      "Agent Response: Welcome, adventurer! You find yourself in a world of your choosing. Tell me, where shall this journey take place?\n",
      "1. A post-apocalyptic wasteland.\n",
      "2. A mundane office as an investment banker.\n",
      "3. A bustling startup in its early stages.\n",
      "4. [Custom response].\n",
      "\n"
     ]
    }
   ],
   "source": [
    "import boto3\n",
    "import json\n",
    "import uuid\n",
    "\n",
    "# Initialize the Bedrock Agent Runtime client (not bedrock-runtime)\n",
    "bedrock_client = boto3.client('bedrock-agent-runtime', region_name='us-east-1')\n",
    "\n",
    "# Generate a session ID for conversation continuity\n",
    "session_id = str(uuid.uuid4())\n",
    "agent_id = \"FNMFUFHPJY\"  # Replace with your Bedrock Agent ID\n",
    "agent_alias_id = \"TSTALIASID\"  # You need to specify your agent alias ID\n",
    "\n",
    "def communicate_with_agent(session_id, user_input):\n",
    "    # Prepare the input parameters\n",
    "    input_params = {\n",
    "        \"agentId\": agent_id,\n",
    "        \"agentAliasId\": agent_alias_id,  # Required parameter\n",
    "        \"sessionId\": session_id,\n",
    "        \"inputText\": user_input\n",
    "    }\n",
    "\n",
    "    # Invoke the Bedrock Agent\n",
    "    response = bedrock_client.invoke_agent(**input_params)\n",
    "    #print(response)\n",
    "    \n",
    "    completion = \"\"\n",
    "     # Handle the streaming response\n",
    "    for event in response.get(\"completion\"):\n",
    "        if \"chunk\" in event:\n",
    "            chunk = event[\"chunk\"]\n",
    "            completion += chunk[\"bytes\"].decode()\n",
    "    token_usage = response.get(\"usage\", {})\n",
    "    print(\"Token Usage:\", token_usage)\n",
    "\n",
    "    \n",
    "    return completion\n",
    "\n",
    "# Example interaction\n",
    "user_input = \"Lets Start\"\n",
    "response = communicate_with_agent(session_id, user_input)\n",
    "print(\"Agent Response:\", response)\n"
   ]
  },
  {
   "cell_type": "code",
   "execution_count": 42,
   "metadata": {},
   "outputs": [
    {
     "name": "stdout",
     "output_type": "stream",
     "text": [
      "Token Usage: {}\n",
      "You decide to partner with local businesses to gain a foothold in new markets. Your strategic thinking and networking skills help you establish strong partnerships that provide a solid foundation for your project's expansion. The partnerships prove successful, and your project begins to thrive in new markets.\n",
      "\n",
      "As your project expands, you face the challenge of maintaining quality and consistency across different regions. What will you do?\n",
      "1. Implement standardized processes and training for all team members.\n",
      "2. Hire local experts to ensure regional compliance and quality.\n",
      "3. Use technology to monitor and manage operations in real-time.\n",
      "4. [Custom response].\n"
     ]
    }
   ],
   "source": [
    "response = communicate_with_agent(session_id, \"my selection is 2\")\n",
    "print(response)"
   ]
  },
  {
   "cell_type": "code",
   "execution_count": 12,
   "metadata": {},
   "outputs": [
    {
     "name": "stdout",
     "output_type": "stream",
     "text": [
      "Excellent choice! You are a dog with a keen sense of smell, perfect for sniffing out secrets and tracking scents. Your abilities are:\n",
      "• Dexterity: 12\n",
      "• Intelligence: 10\n",
      "• Strength: 8\n",
      "\n",
      "Your first challenge begins as you find yourself in a park. A lost child is crying, and you must use your sniffing ability to find them. What will you do?\n",
      "1. Sniff around the park to find the child.\n",
      "2. Bark to alert others to the child's presence.\n",
      "3. [Custom response].\n",
      "\n"
     ]
    }
   ],
   "source": []
  },
  {
   "cell_type": "code",
   "execution_count": 6,
   "metadata": {},
   "outputs": [
    {
     "data": {
      "text/plain": [
       "{'ResponseMetadata': {'RequestId': 'b52c055d-56e3-4bd9-b32c-9c87039796be',\n",
       "  'HTTPStatusCode': 200,\n",
       "  'HTTPHeaders': {'date': 'Mon, 06 Jan 2025 13:18:13 GMT',\n",
       "   'content-type': 'application/json',\n",
       "   'content-length': '141',\n",
       "   'connection': 'keep-alive',\n",
       "   'x-amzn-requestid': 'b52c055d-56e3-4bd9-b32c-9c87039796be',\n",
       "   'x-amz-apigw-id': 'D96zcGR1oAMEcPw=',\n",
       "   'x-amzn-trace-id': 'Root=1-677bd815-6a15c80b5abbdc9b53037155'},\n",
       "  'RetryAttempts': 0},\n",
       " 'agentSummaries': [{'agentId': 'FNMFUFHPJY',\n",
       "   'agentName': 'mikers-test',\n",
       "   'agentStatus': 'PREPARED',\n",
       "   'updatedAt': datetime.datetime(2025, 1, 5, 13, 42, 55, 213812, tzinfo=tzutc())}]}"
      ]
     },
     "execution_count": 6,
     "metadata": {},
     "output_type": "execute_result"
    }
   ],
   "source": [
    "agents"
   ]
  },
  {
   "cell_type": "code",
   "execution_count": 9,
   "metadata": {},
   "outputs": [
    {
     "ename": "NameError",
     "evalue": "name 'response' is not defined",
     "output_type": "error",
     "traceback": [
      "\u001b[0;31m---------------------------------------------------------------------------\u001b[0m",
      "\u001b[0;31mNameError\u001b[0m                                 Traceback (most recent call last)",
      "Cell \u001b[0;32mIn[9], line 1\u001b[0m\n\u001b[0;32m----> 1\u001b[0m \u001b[43mresponse\u001b[49m\u001b[38;5;241m.\u001b[39mget(\u001b[38;5;124m\"\u001b[39m\u001b[38;5;124mcompletion\u001b[39m\u001b[38;5;124m\"\u001b[39m)\n",
      "\u001b[0;31mNameError\u001b[0m: name 'response' is not defined"
     ]
    }
   ],
   "source": [
    "response.get(\"completion\")"
   ]
  },
  {
   "cell_type": "code",
   "execution_count": null,
   "metadata": {},
   "outputs": [],
   "source": []
  }
 ],
 "metadata": {
  "kernelspec": {
   "display_name": "Python 3",
   "language": "python",
   "name": "python3"
  },
  "language_info": {
   "codemirror_mode": {
    "name": "ipython",
    "version": 3
   },
   "file_extension": ".py",
   "mimetype": "text/x-python",
   "name": "python",
   "nbconvert_exporter": "python",
   "pygments_lexer": "ipython3",
   "version": "3.12.1"
  }
 },
 "nbformat": 4,
 "nbformat_minor": 4
}
